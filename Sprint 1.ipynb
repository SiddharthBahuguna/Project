{
 "cells": [
  {
   "cell_type": "markdown",
   "id": "9d1aed72",
   "metadata": {},
   "source": [
    "# 1. Import Required Libraries"
   ]
  },
  {
   "cell_type": "code",
   "execution_count": 25,
   "id": "c1276354",
   "metadata": {},
   "outputs": [],
   "source": [
    "import pandas as pd\n",
    "import numpy as np\n",
    "import matplotlib.pyplot as plt\n",
    "import seaborn as sns\n",
    "from sklearn.feature_extraction.text import TfidfVectorizer\n",
    "from sklearn.model_selection import train_test_split\n",
    "from nltk.corpus import stopwords\n",
    "from nltk.tokenize import word_tokenize\n",
    "import re\n",
    "import nltk"
   ]
  },
  {
   "cell_type": "code",
   "execution_count": 26,
   "id": "75368d5e",
   "metadata": {},
   "outputs": [
    {
     "name": "stderr",
     "output_type": "stream",
     "text": [
      "[nltk_data] Downloading package stopwords to\n",
      "[nltk_data]     C:\\Users\\sidba\\AppData\\Roaming\\nltk_data...\n",
      "[nltk_data]   Package stopwords is already up-to-date!\n",
      "[nltk_data] Downloading package punkt to\n",
      "[nltk_data]     C:\\Users\\sidba\\AppData\\Roaming\\nltk_data...\n",
      "[nltk_data]   Package punkt is already up-to-date!\n"
     ]
    },
    {
     "data": {
      "text/plain": [
       "True"
      ]
     },
     "execution_count": 26,
     "metadata": {},
     "output_type": "execute_result"
    }
   ],
   "source": [
    "# Download NLTK resources if not already available\n",
    "nltk.download('stopwords')\n",
    "nltk.download('punkt')"
   ]
  },
  {
   "cell_type": "markdown",
   "id": "bd1344ea",
   "metadata": {},
   "source": [
    "# Step 1: Load the dataset "
   ]
  },
  {
   "cell_type": "code",
   "execution_count": 4,
   "id": "4d0f9826",
   "metadata": {},
   "outputs": [],
   "source": [
    "data = pd.read_csv('IMDB Dataset.csv')"
   ]
  },
  {
   "cell_type": "code",
   "execution_count": 5,
   "id": "a8995cbe",
   "metadata": {},
   "outputs": [
    {
     "name": "stdout",
     "output_type": "stream",
     "text": [
      "                                              review sentiment\n",
      "0  One of the other reviewers has mentioned that ...  positive\n",
      "1  A wonderful little production. <br /><br />The...  positive\n",
      "2  I thought this was a wonderful way to spend ti...  positive\n",
      "3  Basically there's a family where a little boy ...  negative\n",
      "4  Petter Mattei's \"Love in the Time of Money\" is...  positive\n"
     ]
    }
   ],
   "source": [
    "# Display the first few rows of the dataset\n",
    "print(data.head())"
   ]
  },
  {
   "cell_type": "code",
   "execution_count": 6,
   "id": "02b7cf43",
   "metadata": {},
   "outputs": [
    {
     "name": "stdout",
     "output_type": "stream",
     "text": [
      "<class 'pandas.core.frame.DataFrame'>\n",
      "RangeIndex: 50000 entries, 0 to 49999\n",
      "Data columns (total 2 columns):\n",
      " #   Column     Non-Null Count  Dtype \n",
      "---  ------     --------------  ----- \n",
      " 0   review     50000 non-null  object\n",
      " 1   sentiment  50000 non-null  object\n",
      "dtypes: object(2)\n",
      "memory usage: 781.4+ KB\n",
      "None\n",
      "review       0\n",
      "sentiment    0\n",
      "dtype: int64\n"
     ]
    }
   ],
   "source": [
    "# Check the structure and missing values in the dataset\n",
    "print(data.info())\n",
    "print(data.isnull().sum())"
   ]
  },
  {
   "cell_type": "markdown",
   "id": "365c028a",
   "metadata": {},
   "source": [
    "# Step 2: Data Cleaning"
   ]
  },
  {
   "cell_type": "code",
   "execution_count": 27,
   "id": "b2c790f9",
   "metadata": {},
   "outputs": [],
   "source": [
    "# Remove HTML tags, special characters, and convert text to lowercase\n",
    "def clean_text(text):\n",
    "    text = re.sub(r'<.*?>', '', text)  # Remove HTML tags\n",
    "    text = re.sub(r'[^a-zA-Z\\s]', '', text)  # Remove special characters\n",
    "    text = text.lower()  # Convert to lowercase\n",
    "    return text"
   ]
  },
  {
   "cell_type": "code",
   "execution_count": 28,
   "id": "a1489d7e",
   "metadata": {},
   "outputs": [],
   "source": [
    "data['review'] = data['review'].apply(clean_text)"
   ]
  },
  {
   "cell_type": "code",
   "execution_count": 29,
   "id": "feeeb54e",
   "metadata": {},
   "outputs": [
    {
     "name": "stdout",
     "output_type": "stream",
     "text": [
      "                                              review sentiment\n",
      "0  one of the other reviewers has mentioned that ...  positive\n",
      "1  a wonderful little production the filming tech...  positive\n",
      "2  i thought this was a wonderful way to spend ti...  positive\n",
      "3  basically theres a family where a little boy j...  negative\n",
      "4  petter matteis love in the time of money is a ...  positive\n"
     ]
    }
   ],
   "source": [
    "# Display cleaned data\n",
    "print(data.head())"
   ]
  },
  {
   "cell_type": "markdown",
   "id": "5feeac7a",
   "metadata": {},
   "source": [
    "# Step 3: Tokenization"
   ]
  },
  {
   "cell_type": "code",
   "execution_count": 32,
   "id": "9c0b48b6",
   "metadata": {},
   "outputs": [],
   "source": [
    "# Tokenize the cleaned reviews\n",
    "data['tokens'] = data['review'].apply(word_tokenize)"
   ]
  },
  {
   "cell_type": "code",
   "execution_count": 33,
   "id": "22b6b7b4",
   "metadata": {},
   "outputs": [
    {
     "name": "stdout",
     "output_type": "stream",
     "text": [
      "                                              review  \\\n",
      "0  one of the other reviewers has mentioned that ...   \n",
      "1  a wonderful little production the filming tech...   \n",
      "2  i thought this was a wonderful way to spend ti...   \n",
      "3  basically theres a family where a little boy j...   \n",
      "4  petter matteis love in the time of money is a ...   \n",
      "\n",
      "                                              tokens  \n",
      "0  [one, of, the, other, reviewers, has, mentione...  \n",
      "1  [a, wonderful, little, production, the, filmin...  \n",
      "2  [i, thought, this, was, a, wonderful, way, to,...  \n",
      "3  [basically, theres, a, family, where, a, littl...  \n",
      "4  [petter, matteis, love, in, the, time, of, mon...  \n"
     ]
    }
   ],
   "source": [
    "# Display tokenized reviews\n",
    "print(data[['review', 'tokens']].head())"
   ]
  },
  {
   "cell_type": "markdown",
   "id": "55e58893",
   "metadata": {},
   "source": [
    "# Step 4: Remove Stopwords"
   ]
  },
  {
   "cell_type": "code",
   "execution_count": 34,
   "id": "9c8cdf01",
   "metadata": {},
   "outputs": [],
   "source": [
    "stop_words = set(stopwords.words('english'))\n",
    "\n",
    "def remove_stopwords(tokens):\n",
    "    return [word for word in tokens if word not in stop_words]\n",
    "\n",
    "data['tokens'] = data['tokens'].apply(remove_stopwords)\n"
   ]
  },
  {
   "cell_type": "code",
   "execution_count": 35,
   "id": "7f3769f3",
   "metadata": {},
   "outputs": [],
   "source": [
    "# Join tokens back to form sentences (optional, depending on model input requirements)\n",
    "data['processed_review'] = data['tokens'].apply(lambda tokens: ' '.join(tokens))"
   ]
  },
  {
   "cell_type": "code",
   "execution_count": 36,
   "id": "340f11a2",
   "metadata": {},
   "outputs": [
    {
     "name": "stdout",
     "output_type": "stream",
     "text": [
      "                                              review  \\\n",
      "0  one of the other reviewers has mentioned that ...   \n",
      "1  a wonderful little production the filming tech...   \n",
      "2  i thought this was a wonderful way to spend ti...   \n",
      "3  basically theres a family where a little boy j...   \n",
      "4  petter matteis love in the time of money is a ...   \n",
      "\n",
      "                                    processed_review  \n",
      "0  one reviewers mentioned watching oz episode yo...  \n",
      "1  wonderful little production filming technique ...  \n",
      "2  thought wonderful way spend time hot summer we...  \n",
      "3  basically theres family little boy jake thinks...  \n",
      "4  petter matteis love time money visually stunni...  \n"
     ]
    }
   ],
   "source": [
    "# Display processed reviews\n",
    "print(data[['review', 'processed_review']].head())\n"
   ]
  },
  {
   "cell_type": "markdown",
   "id": "d77edcfd",
   "metadata": {},
   "source": [
    " # Step 5: TF-IDF Feature Extraction "
   ]
  },
  {
   "cell_type": "code",
   "execution_count": 37,
   "id": "1f60136c",
   "metadata": {},
   "outputs": [],
   "source": [
    "# Initialize the TF-IDF vectorizer\n",
    "tfidf_vectorizer = TfidfVectorizer(max_features=5000)  \n"
   ]
  },
  {
   "cell_type": "code",
   "execution_count": 38,
   "id": "1dd1fcae",
   "metadata": {},
   "outputs": [],
   "source": [
    "# Apply TF-IDF to the processed reviews\n",
    "X = tfidf_vectorizer.fit_transform(data['processed_review'])\n"
   ]
  },
  {
   "cell_type": "code",
   "execution_count": 39,
   "id": "32be8a37",
   "metadata": {},
   "outputs": [],
   "source": [
    "# Extract labels (sentiments)\n",
    "y = data['sentiment'].apply(lambda sentiment: 1 if sentiment == 'positive' else 0)\n"
   ]
  },
  {
   "cell_type": "code",
   "execution_count": 40,
   "id": "2bc76c79",
   "metadata": {},
   "outputs": [],
   "source": [
    "# Split data into training and testing sets\n",
    "X_train, X_test, y_train, y_test = train_test_split(X, y, test_size=0.2, random_state=42)"
   ]
  },
  {
   "cell_type": "code",
   "execution_count": 41,
   "id": "71b8afab",
   "metadata": {},
   "outputs": [
    {
     "name": "stdout",
     "output_type": "stream",
     "text": [
      "TF-IDF Matrix Shape: (50000, 5000)\n"
     ]
    }
   ],
   "source": [
    "# Display TF-IDF matrix shape\n",
    "print(\"TF-IDF Matrix Shape:\", X.shape)"
   ]
  },
  {
   "cell_type": "markdown",
   "id": "d707d60a",
   "metadata": {},
   "source": [
    "# Step 6: Save Preprocessed Data \n"
   ]
  },
  {
   "cell_type": "code",
   "execution_count": 44,
   "id": "7ad77725",
   "metadata": {},
   "outputs": [],
   "source": [
    "data.to_csv('cleaned_IMDB_Dataset_with_Tokens.csv', index=False)"
   ]
  },
  {
   "cell_type": "code",
   "execution_count": null,
   "id": "6521d6c1",
   "metadata": {},
   "outputs": [],
   "source": []
  }
 ],
 "metadata": {
  "kernelspec": {
   "display_name": "Python 3 (ipykernel)",
   "language": "python",
   "name": "python3"
  },
  "language_info": {
   "codemirror_mode": {
    "name": "ipython",
    "version": 3
   },
   "file_extension": ".py",
   "mimetype": "text/x-python",
   "name": "python",
   "nbconvert_exporter": "python",
   "pygments_lexer": "ipython3",
   "version": "3.11.5"
  }
 },
 "nbformat": 4,
 "nbformat_minor": 5
}
